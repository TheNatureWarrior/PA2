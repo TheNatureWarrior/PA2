{
 "cells": [
  {
   "cell_type": "markdown",
   "id": "dee7fea5",
   "metadata": {},
   "source": [
    "# Programming Assignment 2\n",
    "## Naat Ambrosino, version 1\n",
    "## CS-150-01 FA21 Professor Sarkar"
   ]
  },
  {
   "cell_type": "markdown",
   "id": "47df230d",
   "metadata": {},
   "source": [
    "a"
   ]
  },
  {
   "cell_type": "code",
   "execution_count": 24,
   "id": "770855a1",
   "metadata": {
    "scrolled": true
   },
   "outputs": [
    {
     "name": "stdout",
     "output_type": "stream",
     "text": [
      "0\n",
      "1\n",
      "2\n",
      "3\n",
      "4\n",
      "5\n",
      "6 *\n",
      "7\n",
      "8\n",
      "9 *\n",
      "10\n",
      "11\n",
      "12 *\n",
      "13\n",
      "14\n",
      "15 *\n",
      "16\n",
      "17\n",
      "18 *\n",
      "19\n",
      "20\n",
      "21 *\n",
      "22\n",
      "23\n",
      "24 *\n",
      "25\n",
      "26\n",
      "27 *\n",
      "28\n",
      "29\n",
      "30 *\n",
      "31\n",
      "32\n",
      "33 *\n",
      "34\n",
      "35\n",
      "36 *\n",
      "37\n",
      "38\n",
      "39 *\n",
      "40\n",
      "41\n",
      "42 *\n",
      "43\n",
      "44\n",
      "45 *\n",
      "46\n",
      "47\n",
      "48 *\n",
      "49\n",
      "50\n",
      "51 *\n",
      "52\n",
      "53\n",
      "54 *\n",
      "55\n",
      "56\n",
      "57 *\n",
      "58\n",
      "59\n",
      "60 *\n",
      "61\n",
      "62\n",
      "63 *\n",
      "64\n",
      "65\n",
      "66 *\n",
      "67\n",
      "68\n",
      "69 *\n",
      "70\n",
      "71\n",
      "72 *\n",
      "73\n",
      "74\n",
      "75 *\n",
      "76\n",
      "77\n",
      "78 *\n",
      "79\n",
      "80\n",
      "81 *\n",
      "82\n",
      "83\n",
      "84 *\n",
      "85\n",
      "86\n",
      "87 *\n",
      "88\n",
      "89\n",
      "90 *\n",
      "91\n",
      "92\n",
      "93 *\n",
      "94\n",
      "95\n",
      "96 *\n",
      "97\n",
      "98\n",
      "99 *\n"
     ]
    }
   ],
   "source": [
    "for x in range(100):\n",
    "    if x==0 or x==3:\n",
    "        print(x)\n",
    "    elif x%3==0:\n",
    "        print(x, '*',)\n",
    "    else:\n",
    "        print(x)"
   ]
  },
  {
   "cell_type": "markdown",
   "id": "753036eb",
   "metadata": {},
   "source": [
    "b"
   ]
  },
  {
   "cell_type": "code",
   "execution_count": 30,
   "id": "86fd6350",
   "metadata": {},
   "outputs": [
    {
     "name": "stdout",
     "output_type": "stream",
     "text": [
      "Enter 0 to end program\n",
      "What is the subject's age?  1\n",
      "Minor\n",
      "What is the subject's age?  231\n",
      "Senior citizen\n",
      "What is the subject's age?  18\n",
      "Adult\n",
      "What is the subject's age?  19\n",
      "Adult\n",
      "What is the subject's age?  17\n",
      "Minor\n",
      "What is the subject's age?  5\n",
      "Minor\n",
      "What is the subject's age?  -2\n",
      "Possible ages only please\n",
      "What is the subject's age?  0\n",
      "\n"
     ]
    }
   ],
   "source": [
    "print(\"Enter 0 to end program\")\n",
    "age = 1\n",
    "while age!=0:\n",
    "    age = int(input(\"What is the subject's age?  \"))\n",
    "    if age<0:\n",
    "        print(\"Possible ages only please\")\n",
    "    elif age==0:\n",
    "        print()\n",
    "    elif age<18:\n",
    "        print(\"Minor\")\n",
    "    elif age<65:\n",
    "        print(\"Adult\")\n",
    "    else:\n",
    "        print(\"Senior citizen\")"
   ]
  },
  {
   "cell_type": "markdown",
   "id": "4c60873e",
   "metadata": {},
   "source": [
    "c"
   ]
  },
  {
   "cell_type": "code",
   "execution_count": 33,
   "id": "afebf93b",
   "metadata": {},
   "outputs": [
    {
     "name": "stdout",
     "output_type": "stream",
     "text": [
      "123 : Senior citizen\n",
      "1453 : Senior citizen\n",
      "2 : Minor\n",
      "42 : Adult\n",
      "6 : Minor\n",
      "12 : Minor\n",
      "18 : Adult\n",
      "32 : Adult\n",
      "46 : Adult\n",
      "89 : Senior citizen\n",
      "1 : Minor\n",
      "5 : Minor\n"
     ]
    }
   ],
   "source": [
    "for number in [123,1453,2,42,6,12,18,32,46,89,1,5]:\n",
    "    if number<0:\n",
    "        print(number,\": Not possible age\")\n",
    "    elif number<18:\n",
    "        print(number, \": Minor\")\n",
    "    elif number<65:\n",
    "        print(number, \": Adult\")\n",
    "    else:\n",
    "        print(number, \": Senior citizen\")"
   ]
  },
  {
   "cell_type": "code",
   "execution_count": null,
   "id": "b65683be",
   "metadata": {},
   "outputs": [],
   "source": []
  }
 ],
 "metadata": {
  "kernelspec": {
   "display_name": "Python 3",
   "language": "python",
   "name": "python3"
  },
  "language_info": {
   "codemirror_mode": {
    "name": "ipython",
    "version": 3
   },
   "file_extension": ".py",
   "mimetype": "text/x-python",
   "name": "python",
   "nbconvert_exporter": "python",
   "pygments_lexer": "ipython3",
   "version": "3.8.8"
  }
 },
 "nbformat": 4,
 "nbformat_minor": 5
}
